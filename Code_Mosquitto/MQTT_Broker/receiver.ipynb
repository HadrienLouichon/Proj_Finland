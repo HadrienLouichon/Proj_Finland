{
 "cells": [
  {
   "cell_type": "markdown",
   "id": "cd583542-0fbe-4e61-bcb0-8f76695f0a34",
   "metadata": {},
   "source": [
    "RECEIVER PROGRAM"
   ]
  },
  {
   "cell_type": "markdown",
   "id": "4a343883-a9d4-449c-9273-d464147a8ec7",
   "metadata": {},
   "source": [
    "Import all python libraries required for the communication :"
   ]
  },
  {
   "cell_type": "code",
   "execution_count": 1,
   "id": "ba916ae5-0180-4af6-91b0-f54d15718ac4",
   "metadata": {},
   "outputs": [],
   "source": [
    "import paho.mqtt.client as mqtt\n",
    "import base64\n",
    "import json\n",
    "import os"
   ]
  },
  {
   "cell_type": "markdown",
   "id": "d4f464bf-627d-4887-acf2-e877e9388ae9",
   "metadata": {},
   "source": [
    "Connect to the MQTT_Broker :"
   ]
  },
  {
   "cell_type": "code",
   "execution_count": 2,
   "id": "0cf7cfd8-aa96-47b3-a418-a84200964e45",
   "metadata": {},
   "outputs": [],
   "source": [
    "# Online broker for communication with the same network connections.\n",
    "MQTT_BROKER = \"#IP_Adress_of_computer\" # Put here the IP Adress of the MQTT_Broker\n",
    "MQTT_PORT = 1883 # Port for MQTT communication.\n",
    "USE_TLS = False # Port 8883 is used for secure communication (TLS/SSL)."
   ]
  },
  {
   "cell_type": "markdown",
   "id": "14e27338-2eec-443e-abdb-e902f513c6ae",
   "metadata": {},
   "source": [
    "Define the Topics (one to receive the data, one to send feedback to the transmitter) :"
   ]
  },
  {
   "cell_type": "code",
   "execution_count": 3,
   "id": "0384fce1-3593-4bb4-974f-a40315aa1b31",
   "metadata": {},
   "outputs": [],
   "source": [
    "TOPIC_IMAGE = \"pi/photo\"\n",
    "TOPIC_ACK = \"pc/ack\""
   ]
  },
  {
   "cell_type": "markdown",
   "id": "ff05a4d6-a8ef-4c57-b741-c30ea9d7eea4",
   "metadata": {},
   "source": [
    "Global variable (used to recompose large files) :"
   ]
  },
  {
   "cell_type": "code",
   "execution_count": 4,
   "id": "c4d1e88b-d32d-492d-b358-0bf2a74416ef",
   "metadata": {},
   "outputs": [],
   "source": [
    "buffers = {}"
   ]
  },
  {
   "cell_type": "markdown",
   "id": "c127ad5f-20e5-4972-b51a-7ddf254ab0bd",
   "metadata": {},
   "source": [
    "Function to subscribe to the TOPIC in order to receive the data :"
   ]
  },
  {
   "cell_type": "code",
   "execution_count": 5,
   "id": "fd182130-84ef-4330-8d4c-d0a8700335bc",
   "metadata": {},
   "outputs": [],
   "source": [
    "# Function which subscribes to the main topic\n",
    "def on_connect(client, userdata, flags, rc): \n",
    "    print(\"[RECEIVER] Connected, waiting for data ...\")\n",
    "    client.subscribe(TOPIC_IMAGE)"
   ]
  },
  {
   "cell_type": "markdown",
   "id": "0d82fe6c-8eba-489c-8e62-cc4b00c8a2d7",
   "metadata": {},
   "source": [
    "Main function that receives and decode all data send to the previous Topic, recompose the data, saves them in a folder and sends feedback to the sender."
   ]
  },
  {
   "cell_type": "code",
   "execution_count": 6,
   "id": "5e3edb57-688e-4bb1-950f-188826c83832",
   "metadata": {},
   "outputs": [],
   "source": [
    "# Callback function that handles incoming messages (data) and reconstruct to have the final data.\n",
    "def on_message(client, userdata, msg):\n",
    "    try:\n",
    "        # Get & Decode the incoming message\n",
    "        payload = json.loads(msg.payload.decode(\"utf-8\"))\n",
    "        message_id = payload[\"message_id\"]\n",
    "        filename = payload[\"filename\"]\n",
    "        chunk_id = payload[\"chunk_id\"]\n",
    "        total_chunks = payload[\"total_chunks\"]\n",
    "        data = base64.b64decode(payload[\"data\"])\n",
    "\n",
    "        # Inform the receiver of the number of chunk the data is composed of.\n",
    "        print(f\"Chunk {chunk_id+1}/{total_chunks} of the file '{filename}' received.\")\n",
    "\n",
    "        if message_id not in buffers:\n",
    "            buffers[message_id] = {\n",
    "                \"filename\": filename,\n",
    "                \"chunks\": {},\n",
    "                \"total\": total_chunks\n",
    "            }\n",
    "\n",
    "        # Store the current chunk in the buffer\n",
    "        buffers[message_id][\"chunks\"][chunk_id] = data \n",
    "\n",
    "        # Path to the folder in which the data will be saved.\n",
    "        repository = \"files_received\"\n",
    "        os.makedirs(repository, exist_ok=True)\n",
    "        complete_path = os.path.join(repository, filename)\n",
    "\n",
    "        # Reconstruct the file if all chunks have been received.\n",
    "        if len(buffers[message_id][\"chunks\"]) == total_chunks: \n",
    "            with open(complete_path, \"wb\") as f: # Path to the folder to save the data\n",
    "                for i in range(total_chunks):\n",
    "                    f.write(buffers[message_id][\"chunks\"][i]) # Recomposition of the data\n",
    "            print(f\"✅ The data was completely reconstructed here : {complete_path}\")\n",
    "            del buffers[message_id]\n",
    "\n",
    "        # Send feedback back to the sender (transmitter.py) by publishing on the second Topic\n",
    "        ack_payload = {\n",
    "            \"id\": payload[\"message_id\"],\n",
    "            \"status\": \"Reception ✅\"\n",
    "        }\n",
    "        client.publish(TOPIC_ACK, json.dumps(ack_payload))\n",
    "\n",
    "    # except json.JSONDecodeError:\n",
    "    except Exception as e:\n",
    "        print(\"[RECEIVER] ❌ Error :\", str(e))\n",
    "        if \"data\" in locals():\n",
    "            client.publish(TOPIC_ACK, json.dumps({\n",
    "                \"message_id\": payload.get(\"message_id\"),\n",
    "                \"status\": f\"Error ❌ : {str(e)}\"\n",
    "            }))"
   ]
  },
  {
   "cell_type": "markdown",
   "id": "b92db9f2-b486-4962-b2d0-52ccb4934836",
   "metadata": {},
   "source": [
    "Connexion and initialisation of the MQTT Broker :"
   ]
  },
  {
   "cell_type": "code",
   "execution_count": 7,
   "id": "6c49241b-ba5e-42b5-80d2-c2468650423e",
   "metadata": {},
   "outputs": [
    {
     "name": "stderr",
     "output_type": "stream",
     "text": [
      "C:\\Users\\hadri\\AppData\\Local\\Temp\\ipykernel_35652\\2860034572.py:2: DeprecationWarning: Callback API version 1 is deprecated, update to latest version\n",
      "  client = mqtt.Client()\n"
     ]
    },
    {
     "ename": "TimeoutError",
     "evalue": "timed out",
     "output_type": "error",
     "traceback": [
      "\u001b[31m---------------------------------------------------------------------------\u001b[39m",
      "\u001b[31mTimeoutError\u001b[39m                              Traceback (most recent call last)",
      "\u001b[36mCell\u001b[39m\u001b[36m \u001b[39m\u001b[32mIn[7]\u001b[39m\u001b[32m, line 7\u001b[39m\n\u001b[32m      4\u001b[39m client.on_message = on_message \u001b[38;5;66;03m# Reception & recomposition of each data\u001b[39;00m\n\u001b[32m      6\u001b[39m \u001b[38;5;66;03m# Connexion to the MQTT_Broker\u001b[39;00m\n\u001b[32m----> \u001b[39m\u001b[32m7\u001b[39m \u001b[43mclient\u001b[49m\u001b[43m.\u001b[49m\u001b[43mconnect\u001b[49m\u001b[43m(\u001b[49m\u001b[43mMQTT_BROKER\u001b[49m\u001b[43m,\u001b[49m\u001b[43m \u001b[49m\u001b[43mMQTT_PORT\u001b[49m\u001b[43m,\u001b[49m\u001b[32;43m60\u001b[39;49m\u001b[43m)\u001b[49m\n\u001b[32m      8\u001b[39m client.loop_forever() \u001b[38;5;66;03m# Infinite loop to receive several data.\u001b[39;00m\n",
      "\u001b[36mFile \u001b[39m\u001b[32m~\\AppData\\Local\\Programs\\Python\\Python313\\Lib\\site-packages\\paho\\mqtt\\client.py:1435\u001b[39m, in \u001b[36mClient.connect\u001b[39m\u001b[34m(self, host, port, keepalive, bind_address, bind_port, clean_start, properties)\u001b[39m\n\u001b[32m   1431\u001b[39m         \u001b[38;5;28;01mraise\u001b[39;00m \u001b[38;5;167;01mValueError\u001b[39;00m(\u001b[33m\"\u001b[39m\u001b[33mProperties only apply to MQTT V5\u001b[39m\u001b[33m\"\u001b[39m)\n\u001b[32m   1433\u001b[39m \u001b[38;5;28mself\u001b[39m.connect_async(host, port, keepalive,\n\u001b[32m   1434\u001b[39m                    bind_address, bind_port, clean_start, properties)\n\u001b[32m-> \u001b[39m\u001b[32m1435\u001b[39m \u001b[38;5;28;01mreturn\u001b[39;00m \u001b[38;5;28;43mself\u001b[39;49m\u001b[43m.\u001b[49m\u001b[43mreconnect\u001b[49m\u001b[43m(\u001b[49m\u001b[43m)\u001b[49m\n",
      "\u001b[36mFile \u001b[39m\u001b[32m~\\AppData\\Local\\Programs\\Python\\Python313\\Lib\\site-packages\\paho\\mqtt\\client.py:1598\u001b[39m, in \u001b[36mClient.reconnect\u001b[39m\u001b[34m(self)\u001b[39m\n\u001b[32m   1595\u001b[39m         \u001b[38;5;28;01mif\u001b[39;00m \u001b[38;5;129;01mnot\u001b[39;00m \u001b[38;5;28mself\u001b[39m.suppress_exceptions:\n\u001b[32m   1596\u001b[39m             \u001b[38;5;28;01mraise\u001b[39;00m\n\u001b[32m-> \u001b[39m\u001b[32m1598\u001b[39m \u001b[38;5;28mself\u001b[39m._sock = \u001b[38;5;28;43mself\u001b[39;49m\u001b[43m.\u001b[49m\u001b[43m_create_socket\u001b[49m\u001b[43m(\u001b[49m\u001b[43m)\u001b[49m\n\u001b[32m   1600\u001b[39m \u001b[38;5;28mself\u001b[39m._sock.setblocking(\u001b[38;5;28;01mFalse\u001b[39;00m)  \u001b[38;5;66;03m# type: ignore[attr-defined]\u001b[39;00m\n\u001b[32m   1601\u001b[39m \u001b[38;5;28mself\u001b[39m._registered_write = \u001b[38;5;28;01mFalse\u001b[39;00m\n",
      "\u001b[36mFile \u001b[39m\u001b[32m~\\AppData\\Local\\Programs\\Python\\Python313\\Lib\\site-packages\\paho\\mqtt\\client.py:4609\u001b[39m, in \u001b[36mClient._create_socket\u001b[39m\u001b[34m(self)\u001b[39m\n\u001b[32m   4607\u001b[39m     sock = \u001b[38;5;28mself\u001b[39m._create_unix_socket_connection()\n\u001b[32m   4608\u001b[39m \u001b[38;5;28;01melse\u001b[39;00m:\n\u001b[32m-> \u001b[39m\u001b[32m4609\u001b[39m     sock = \u001b[38;5;28;43mself\u001b[39;49m\u001b[43m.\u001b[49m\u001b[43m_create_socket_connection\u001b[49m\u001b[43m(\u001b[49m\u001b[43m)\u001b[49m\n\u001b[32m   4611\u001b[39m \u001b[38;5;28;01mif\u001b[39;00m \u001b[38;5;28mself\u001b[39m._ssl:\n\u001b[32m   4612\u001b[39m     sock = \u001b[38;5;28mself\u001b[39m._ssl_wrap_socket(sock)\n",
      "\u001b[36mFile \u001b[39m\u001b[32m~\\AppData\\Local\\Programs\\Python\\Python313\\Lib\\site-packages\\paho\\mqtt\\client.py:4640\u001b[39m, in \u001b[36mClient._create_socket_connection\u001b[39m\u001b[34m(self)\u001b[39m\n\u001b[32m   4638\u001b[39m     \u001b[38;5;28;01mreturn\u001b[39;00m socks.create_connection(addr, timeout=\u001b[38;5;28mself\u001b[39m._connect_timeout, source_address=source, **proxy)\n\u001b[32m   4639\u001b[39m \u001b[38;5;28;01melse\u001b[39;00m:\n\u001b[32m-> \u001b[39m\u001b[32m4640\u001b[39m     \u001b[38;5;28;01mreturn\u001b[39;00m \u001b[43msocket\u001b[49m\u001b[43m.\u001b[49m\u001b[43mcreate_connection\u001b[49m\u001b[43m(\u001b[49m\u001b[43maddr\u001b[49m\u001b[43m,\u001b[49m\u001b[43m \u001b[49m\u001b[43mtimeout\u001b[49m\u001b[43m=\u001b[49m\u001b[38;5;28;43mself\u001b[39;49m\u001b[43m.\u001b[49m\u001b[43m_connect_timeout\u001b[49m\u001b[43m,\u001b[49m\u001b[43m \u001b[49m\u001b[43msource_address\u001b[49m\u001b[43m=\u001b[49m\u001b[43msource\u001b[49m\u001b[43m)\u001b[49m\n",
      "\u001b[36mFile \u001b[39m\u001b[32m~\\AppData\\Local\\Programs\\Python\\Python313\\Lib\\socket.py:864\u001b[39m, in \u001b[36mcreate_connection\u001b[39m\u001b[34m(address, timeout, source_address, all_errors)\u001b[39m\n\u001b[32m    862\u001b[39m \u001b[38;5;28;01mtry\u001b[39;00m:\n\u001b[32m    863\u001b[39m     \u001b[38;5;28;01mif\u001b[39;00m \u001b[38;5;129;01mnot\u001b[39;00m all_errors:\n\u001b[32m--> \u001b[39m\u001b[32m864\u001b[39m         \u001b[38;5;28;01mraise\u001b[39;00m exceptions[\u001b[32m0\u001b[39m]\n\u001b[32m    865\u001b[39m     \u001b[38;5;28;01mraise\u001b[39;00m ExceptionGroup(\u001b[33m\"\u001b[39m\u001b[33mcreate_connection failed\u001b[39m\u001b[33m\"\u001b[39m, exceptions)\n\u001b[32m    866\u001b[39m \u001b[38;5;28;01mfinally\u001b[39;00m:\n\u001b[32m    867\u001b[39m     \u001b[38;5;66;03m# Break explicitly a reference cycle\u001b[39;00m\n",
      "\u001b[36mFile \u001b[39m\u001b[32m~\\AppData\\Local\\Programs\\Python\\Python313\\Lib\\socket.py:849\u001b[39m, in \u001b[36mcreate_connection\u001b[39m\u001b[34m(address, timeout, source_address, all_errors)\u001b[39m\n\u001b[32m    847\u001b[39m \u001b[38;5;28;01mif\u001b[39;00m source_address:\n\u001b[32m    848\u001b[39m     sock.bind(source_address)\n\u001b[32m--> \u001b[39m\u001b[32m849\u001b[39m \u001b[43msock\u001b[49m\u001b[43m.\u001b[49m\u001b[43mconnect\u001b[49m\u001b[43m(\u001b[49m\u001b[43msa\u001b[49m\u001b[43m)\u001b[49m\n\u001b[32m    850\u001b[39m \u001b[38;5;66;03m# Break explicitly a reference cycle\u001b[39;00m\n\u001b[32m    851\u001b[39m exceptions.clear()\n",
      "\u001b[31mTimeoutError\u001b[39m: timed out"
     ]
    }
   ],
   "source": [
    "# Initialisation of the MQTT\n",
    "client = mqtt.Client()\n",
    "client.on_connect = on_connect # Subscription to the receiving Topic\n",
    "client.on_message = on_message # Reception & recomposition of each data\n",
    "\n",
    "# Connexion to the MQTT_Broker\n",
    "client.connect(MQTT_BROKER, MQTT_PORT,60)\n",
    "client.loop_forever() # Infinite loop to receive several data."
   ]
  }
 ],
 "metadata": {
  "kernelspec": {
   "display_name": "Python 3 (ipykernel)",
   "language": "python",
   "name": "python3"
  },
  "language_info": {
   "codemirror_mode": {
    "name": "ipython",
    "version": 3
   },
   "file_extension": ".py",
   "mimetype": "text/x-python",
   "name": "python",
   "nbconvert_exporter": "python",
   "pygments_lexer": "ipython3",
   "version": "3.13.2"
  }
 },
 "nbformat": 4,
 "nbformat_minor": 5
}
