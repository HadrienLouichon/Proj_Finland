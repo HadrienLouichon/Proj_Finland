{
 "cells": [
  {
   "cell_type": "markdown",
   "id": "cd583542-0fbe-4e61-bcb0-8f76695f0a34",
   "metadata": {},
   "source": [
    "TRANSMITTING PROGRAM"
   ]
  },
  {
   "cell_type": "markdown",
   "id": "4a343883-a9d4-449c-9273-d464147a8ec7",
   "metadata": {},
   "source": [
    "Import all python libraries required for the communication :"
   ]
  },
  {
   "cell_type": "code",
   "execution_count": 1,
   "id": "ba916ae5-0180-4af6-91b0-f54d15718ac4",
   "metadata": {},
   "outputs": [],
   "source": [
    "import paho.mqtt.client as mqtt\n",
    "import base64\n",
    "import time\n",
    "import uuid\n",
    "import json\n",
    "import os"
   ]
  },
  {
   "cell_type": "markdown",
   "id": "d4f464bf-627d-4887-acf2-e877e9388ae9",
   "metadata": {},
   "source": [
    "Connect to the MQTT_Broker :"
   ]
  },
  {
   "cell_type": "code",
   "execution_count": 2,
   "id": "0cf7cfd8-aa96-47b3-a418-a84200964e45",
   "metadata": {},
   "outputs": [],
   "source": [
    "# Online broker for communication with the same network connections.\n",
    "MQTT_BROKER = \"#IP_Adress_of_computer\" # Put here the IP Adress of the MQTT_Broker\n",
    "MQTT_PORT = 1883 # Port for MQTT communication.\n",
    "USE_TLS = False # Port 8883 is used for secure communication (TLS/SSL)."
   ]
  },
  {
   "cell_type": "markdown",
   "id": "14e27338-2eec-443e-abdb-e902f513c6ae",
   "metadata": {},
   "source": [
    "Define the Topics (one to send the data, one to receive feedback of the receiver) :"
   ]
  },
  {
   "cell_type": "code",
   "execution_count": 3,
   "id": "0384fce1-3593-4bb4-974f-a40315aa1b31",
   "metadata": {},
   "outputs": [],
   "source": [
    "TOPIC_IMAGE = \"pi/photo\"\n",
    "TOPIC_ACK = \"pc/ack\""
   ]
  },
  {
   "cell_type": "markdown",
   "id": "ff05a4d6-a8ef-4c57-b741-c30ea9d7eea4",
   "metadata": {},
   "source": [
    "Global variable :"
   ]
  },
  {
   "cell_type": "code",
   "execution_count": 4,
   "id": "c4d1e88b-d32d-492d-b358-0bf2a74416ef",
   "metadata": {},
   "outputs": [],
   "source": [
    "CHUNK_SIZE = 10_000_000  # Used to decompose large files into smaller pieces of 10 Mo\n",
    "ack_recu = False # Variable to know if the feedback has been received.\n",
    "current_message_id = \"\" # Variable to store the ID of the current message."
   ]
  },
  {
   "cell_type": "markdown",
   "id": "8047ec6f-d642-4fa2-bf39-3bee6975a5fa",
   "metadata": {},
   "source": [
    "Main function that connects to the MQTT_Broker, scans all the data to send and sends each one of them (calling the function send_file()) :"
   ]
  },
  {
   "cell_type": "code",
   "execution_count": 5,
   "id": "47859b9b-cce2-45f0-8387-5634035c6263",
   "metadata": {},
   "outputs": [],
   "source": [
    "def main():\n",
    "    # Initialisation of the MQTT connexion :\n",
    "    client = mqtt.Client()\n",
    "    client.on_message = on_message # Callback function to handle incoming messages (feedback).\n",
    "\n",
    "    # Connexion to the MQTT_Broker\n",
    "    client.connect(MQTT_BROKER, MQTT_PORT, 60)\n",
    "    client.subscribe(TOPIC_ACK) # Subscribe to the feedback topic.\n",
    "    client.loop_start()\n",
    "\n",
    "    # Scan of the folder which contains all the data to send.\n",
    "    repository = \"files_to_send\"\n",
    "    filesnames = next(os.walk(repository), (None, None, []))[2] # [] if no file\n",
    "    \n",
    "    for file in filesnames:\n",
    "        path_file = os.path.join(repository, file)\n",
    "        if os.path.exists(path_file):\n",
    "            send_file(path_file, client) # Call the function send_file() to send each file to the receiver.\n",
    "        else:\n",
    "            print(f\"❌ This data has not been found : {file}\")\n",
    "\n",
    "    time.sleep(2) # Wait some time between each file to be sent to avoid too much traffic.\n",
    "    client.loop_stop()\n",
    "    client.disconnect()\n",
    "    print(\"[TRANSMITTER] End of the transmission.\")"
   ]
  },
  {
   "cell_type": "markdown",
   "id": "0d82fe6c-8eba-489c-8e62-cc4b00c8a2d7",
   "metadata": {},
   "source": [
    "Function that get feedback of the receiver to inform if the data has been successfully received or not."
   ]
  },
  {
   "cell_type": "code",
   "execution_count": 6,
   "id": "5e3edb57-688e-4bb1-950f-188826c83832",
   "metadata": {},
   "outputs": [],
   "source": [
    "# Callback function to handle incoming messages (feedback).\n",
    "def on_message(client, userdata, msg):\n",
    "        global ack_recu\n",
    "        ack = json.loads(msg.payload.decode('utf-8'))\n",
    "        if ack.get(\"id\") == message_id_en_cours:\n",
    "            ack_recu = True\n",
    "            print(f\"[RECEIVER] '{ack.get('status')}' : the data was succesfully received by the receiver !\")"
   ]
  },
  {
   "cell_type": "markdown",
   "id": "a0f826d5-4786-4f05-8388-5b0628c97b85",
   "metadata": {},
   "source": [
    "Function that decompose larger files into smaller pieces and then sends each of those pieces to the receiver."
   ]
  },
  {
   "cell_type": "code",
   "execution_count": 7,
   "id": "5c96a665-ff76-42aa-b3ad-13b2f91de826",
   "metadata": {},
   "outputs": [],
   "source": [
    "# Function that sends each file to the receiver in chunks.\n",
    "def send_file(file, client):\n",
    "\n",
    "    # Get all global variables to know which data is being send / decompose\n",
    "    global message_id_en_cours, ack_recu\n",
    "    ack_recu = False\n",
    "    message_id = str(uuid.uuid4())\n",
    "    message_id_en_cours = message_id\n",
    "\n",
    "    # Read the current data to transmit\n",
    "    with open(file, \"rb\") as f:\n",
    "        file_data = f.read()\n",
    "\n",
    "    # Calculate the number of chunks needed to send the file.\n",
    "    total_chunks = (len(file_data) + CHUNK_SIZE - 1) // CHUNK_SIZE \n",
    "    filename = os.path.basename(file)\n",
    "\n",
    "    # Inform the sender of how many pieces the data will be send.\n",
    "    print(f\"\\n📤 Sending '{filename}' ({len(file_data)} octets) through {total_chunks} chunks...\")\n",
    "\n",
    "    # Decomposition of the data.\n",
    "    for i in range(total_chunks):\n",
    "        chunk = file_data[i * CHUNK_SIZE : (i + 1) * CHUNK_SIZE]\n",
    "        payload = {\n",
    "            \"message_id\": message_id,\n",
    "            \"filename\": filename,\n",
    "            \"chunk_id\": i,\n",
    "            \"total_chunks\": total_chunks,\n",
    "            \"data\": base64.b64encode(chunk).decode(\"utf-8\") # Small 'chunks' of data.\n",
    "        }\n",
    "        # Maximum number of tries to send the chunk (in case of a ponctual error).\n",
    "        max_try = 3\n",
    "        for Try in range(1, max_try + 1):\n",
    "            \n",
    "            print(f\"[TRANSMITTER] Sending {filename} - Chunk {i+1}/{total_chunks} - Try n°{Try}\")\n",
    "            \n",
    "            client.publish(TOPIC_IMAGE, json.dumps(payload)) # Transmission of each 'chunks' of data.\n",
    "            time.sleep(0.1)\n",
    "\n",
    "            # little timeout to wait for the feedback.\n",
    "            for _ in range(10):  \n",
    "                if ack_recu:\n",
    "                    break\n",
    "                time.sleep(0.5)\n",
    "\n",
    "            # If the feedback is received, we can stop sending the chunk.\n",
    "            if ack_recu: \n",
    "                print(f\"[RECEIVER] {filename} → was successfully sent.\")\n",
    "                break\n",
    "            else:\n",
    "                print(f\"[RECEIVER] No feedback for {filename}, new try...\")\n",
    "\n",
    "    print(f\"File '{filename}' send with success.\")\n",
    "    time.sleep(1.5)"
   ]
  },
  {
   "cell_type": "code",
   "execution_count": 8,
   "id": "6c49241b-ba5e-42b5-80d2-c2468650423e",
   "metadata": {},
   "outputs": [
    {
     "name": "stderr",
     "output_type": "stream",
     "text": [
      "C:\\Users\\hadri\\AppData\\Local\\Temp\\ipykernel_29156\\2175969973.py:3: DeprecationWarning: Callback API version 1 is deprecated, update to latest version\n",
      "  client = mqtt.Client()\n"
     ]
    },
    {
     "ename": "TimeoutError",
     "evalue": "timed out",
     "output_type": "error",
     "traceback": [
      "\u001b[31m---------------------------------------------------------------------------\u001b[39m",
      "\u001b[31mTimeoutError\u001b[39m                              Traceback (most recent call last)",
      "\u001b[36mCell\u001b[39m\u001b[36m \u001b[39m\u001b[32mIn[8]\u001b[39m\u001b[32m, line 2\u001b[39m\n\u001b[32m      1\u001b[39m \u001b[38;5;28;01mif\u001b[39;00m \u001b[34m__name__\u001b[39m == \u001b[33m\"\u001b[39m\u001b[33m__main__\u001b[39m\u001b[33m\"\u001b[39m:\n\u001b[32m----> \u001b[39m\u001b[32m2\u001b[39m     \u001b[43mmain\u001b[49m\u001b[43m(\u001b[49m\u001b[43m)\u001b[49m\n",
      "\u001b[36mCell\u001b[39m\u001b[36m \u001b[39m\u001b[32mIn[5]\u001b[39m\u001b[32m, line 7\u001b[39m, in \u001b[36mmain\u001b[39m\u001b[34m()\u001b[39m\n\u001b[32m      4\u001b[39m client.on_message = on_message \u001b[38;5;66;03m# Callback function to handle incoming messages (feedback).\u001b[39;00m\n\u001b[32m      6\u001b[39m \u001b[38;5;66;03m# Connexion to the MQTT_Broker\u001b[39;00m\n\u001b[32m----> \u001b[39m\u001b[32m7\u001b[39m \u001b[43mclient\u001b[49m\u001b[43m.\u001b[49m\u001b[43mconnect\u001b[49m\u001b[43m(\u001b[49m\u001b[43mMQTT_BROKER\u001b[49m\u001b[43m,\u001b[49m\u001b[43m \u001b[49m\u001b[43mMQTT_PORT\u001b[49m\u001b[43m,\u001b[49m\u001b[43m \u001b[49m\u001b[32;43m60\u001b[39;49m\u001b[43m)\u001b[49m\n\u001b[32m      8\u001b[39m client.subscribe(TOPIC_ACK) \u001b[38;5;66;03m# Subscribe to the feedback topic.\u001b[39;00m\n\u001b[32m      9\u001b[39m client.loop_start()\n",
      "\u001b[36mFile \u001b[39m\u001b[32m~\\AppData\\Local\\Programs\\Python\\Python313\\Lib\\site-packages\\paho\\mqtt\\client.py:1435\u001b[39m, in \u001b[36mClient.connect\u001b[39m\u001b[34m(self, host, port, keepalive, bind_address, bind_port, clean_start, properties)\u001b[39m\n\u001b[32m   1431\u001b[39m         \u001b[38;5;28;01mraise\u001b[39;00m \u001b[38;5;167;01mValueError\u001b[39;00m(\u001b[33m\"\u001b[39m\u001b[33mProperties only apply to MQTT V5\u001b[39m\u001b[33m\"\u001b[39m)\n\u001b[32m   1433\u001b[39m \u001b[38;5;28mself\u001b[39m.connect_async(host, port, keepalive,\n\u001b[32m   1434\u001b[39m                    bind_address, bind_port, clean_start, properties)\n\u001b[32m-> \u001b[39m\u001b[32m1435\u001b[39m \u001b[38;5;28;01mreturn\u001b[39;00m \u001b[38;5;28;43mself\u001b[39;49m\u001b[43m.\u001b[49m\u001b[43mreconnect\u001b[49m\u001b[43m(\u001b[49m\u001b[43m)\u001b[49m\n",
      "\u001b[36mFile \u001b[39m\u001b[32m~\\AppData\\Local\\Programs\\Python\\Python313\\Lib\\site-packages\\paho\\mqtt\\client.py:1598\u001b[39m, in \u001b[36mClient.reconnect\u001b[39m\u001b[34m(self)\u001b[39m\n\u001b[32m   1595\u001b[39m         \u001b[38;5;28;01mif\u001b[39;00m \u001b[38;5;129;01mnot\u001b[39;00m \u001b[38;5;28mself\u001b[39m.suppress_exceptions:\n\u001b[32m   1596\u001b[39m             \u001b[38;5;28;01mraise\u001b[39;00m\n\u001b[32m-> \u001b[39m\u001b[32m1598\u001b[39m \u001b[38;5;28mself\u001b[39m._sock = \u001b[38;5;28;43mself\u001b[39;49m\u001b[43m.\u001b[49m\u001b[43m_create_socket\u001b[49m\u001b[43m(\u001b[49m\u001b[43m)\u001b[49m\n\u001b[32m   1600\u001b[39m \u001b[38;5;28mself\u001b[39m._sock.setblocking(\u001b[38;5;28;01mFalse\u001b[39;00m)  \u001b[38;5;66;03m# type: ignore[attr-defined]\u001b[39;00m\n\u001b[32m   1601\u001b[39m \u001b[38;5;28mself\u001b[39m._registered_write = \u001b[38;5;28;01mFalse\u001b[39;00m\n",
      "\u001b[36mFile \u001b[39m\u001b[32m~\\AppData\\Local\\Programs\\Python\\Python313\\Lib\\site-packages\\paho\\mqtt\\client.py:4609\u001b[39m, in \u001b[36mClient._create_socket\u001b[39m\u001b[34m(self)\u001b[39m\n\u001b[32m   4607\u001b[39m     sock = \u001b[38;5;28mself\u001b[39m._create_unix_socket_connection()\n\u001b[32m   4608\u001b[39m \u001b[38;5;28;01melse\u001b[39;00m:\n\u001b[32m-> \u001b[39m\u001b[32m4609\u001b[39m     sock = \u001b[38;5;28;43mself\u001b[39;49m\u001b[43m.\u001b[49m\u001b[43m_create_socket_connection\u001b[49m\u001b[43m(\u001b[49m\u001b[43m)\u001b[49m\n\u001b[32m   4611\u001b[39m \u001b[38;5;28;01mif\u001b[39;00m \u001b[38;5;28mself\u001b[39m._ssl:\n\u001b[32m   4612\u001b[39m     sock = \u001b[38;5;28mself\u001b[39m._ssl_wrap_socket(sock)\n",
      "\u001b[36mFile \u001b[39m\u001b[32m~\\AppData\\Local\\Programs\\Python\\Python313\\Lib\\site-packages\\paho\\mqtt\\client.py:4640\u001b[39m, in \u001b[36mClient._create_socket_connection\u001b[39m\u001b[34m(self)\u001b[39m\n\u001b[32m   4638\u001b[39m     \u001b[38;5;28;01mreturn\u001b[39;00m socks.create_connection(addr, timeout=\u001b[38;5;28mself\u001b[39m._connect_timeout, source_address=source, **proxy)\n\u001b[32m   4639\u001b[39m \u001b[38;5;28;01melse\u001b[39;00m:\n\u001b[32m-> \u001b[39m\u001b[32m4640\u001b[39m     \u001b[38;5;28;01mreturn\u001b[39;00m \u001b[43msocket\u001b[49m\u001b[43m.\u001b[49m\u001b[43mcreate_connection\u001b[49m\u001b[43m(\u001b[49m\u001b[43maddr\u001b[49m\u001b[43m,\u001b[49m\u001b[43m \u001b[49m\u001b[43mtimeout\u001b[49m\u001b[43m=\u001b[49m\u001b[38;5;28;43mself\u001b[39;49m\u001b[43m.\u001b[49m\u001b[43m_connect_timeout\u001b[49m\u001b[43m,\u001b[49m\u001b[43m \u001b[49m\u001b[43msource_address\u001b[49m\u001b[43m=\u001b[49m\u001b[43msource\u001b[49m\u001b[43m)\u001b[49m\n",
      "\u001b[36mFile \u001b[39m\u001b[32m~\\AppData\\Local\\Programs\\Python\\Python313\\Lib\\socket.py:864\u001b[39m, in \u001b[36mcreate_connection\u001b[39m\u001b[34m(address, timeout, source_address, all_errors)\u001b[39m\n\u001b[32m    862\u001b[39m \u001b[38;5;28;01mtry\u001b[39;00m:\n\u001b[32m    863\u001b[39m     \u001b[38;5;28;01mif\u001b[39;00m \u001b[38;5;129;01mnot\u001b[39;00m all_errors:\n\u001b[32m--> \u001b[39m\u001b[32m864\u001b[39m         \u001b[38;5;28;01mraise\u001b[39;00m exceptions[\u001b[32m0\u001b[39m]\n\u001b[32m    865\u001b[39m     \u001b[38;5;28;01mraise\u001b[39;00m ExceptionGroup(\u001b[33m\"\u001b[39m\u001b[33mcreate_connection failed\u001b[39m\u001b[33m\"\u001b[39m, exceptions)\n\u001b[32m    866\u001b[39m \u001b[38;5;28;01mfinally\u001b[39;00m:\n\u001b[32m    867\u001b[39m     \u001b[38;5;66;03m# Break explicitly a reference cycle\u001b[39;00m\n",
      "\u001b[36mFile \u001b[39m\u001b[32m~\\AppData\\Local\\Programs\\Python\\Python313\\Lib\\socket.py:849\u001b[39m, in \u001b[36mcreate_connection\u001b[39m\u001b[34m(address, timeout, source_address, all_errors)\u001b[39m\n\u001b[32m    847\u001b[39m \u001b[38;5;28;01mif\u001b[39;00m source_address:\n\u001b[32m    848\u001b[39m     sock.bind(source_address)\n\u001b[32m--> \u001b[39m\u001b[32m849\u001b[39m \u001b[43msock\u001b[49m\u001b[43m.\u001b[49m\u001b[43mconnect\u001b[49m\u001b[43m(\u001b[49m\u001b[43msa\u001b[49m\u001b[43m)\u001b[49m\n\u001b[32m    850\u001b[39m \u001b[38;5;66;03m# Break explicitly a reference cycle\u001b[39;00m\n\u001b[32m    851\u001b[39m exceptions.clear()\n",
      "\u001b[31mTimeoutError\u001b[39m: timed out"
     ]
    }
   ],
   "source": [
    "if __name__ == \"__main__\":\n",
    "    main()"
   ]
  }
 ],
 "metadata": {
  "kernelspec": {
   "display_name": "Python 3 (ipykernel)",
   "language": "python",
   "name": "python3"
  },
  "language_info": {
   "codemirror_mode": {
    "name": "ipython",
    "version": 3
   },
   "file_extension": ".py",
   "mimetype": "text/x-python",
   "name": "python",
   "nbconvert_exporter": "python",
   "pygments_lexer": "ipython3",
   "version": "3.13.2"
  }
 },
 "nbformat": 4,
 "nbformat_minor": 5
}
